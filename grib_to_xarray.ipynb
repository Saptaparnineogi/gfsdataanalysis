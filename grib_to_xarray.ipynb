{
 "cells": [
  {
   "cell_type": "code",
   "execution_count": 2,
   "metadata": {},
   "outputs": [],
   "source": [
    "import os\n",
    "import os.path\n",
    "import requests \n",
    "from bs4 import BeautifulSoup \n",
    "import pygrib\n",
    "import tarfile\n",
    "#from pvlib.forecast import GFS\n",
    "import pandas as pd\n",
    "import numpy as np\n",
    "import datetime\n",
    "from pvlib.location import Location\n",
    "import glob\n",
    "import matplotlib.pyplot as plt\n",
    "from pylab import rcParams\n",
    "import xarray as xr\n",
    "import itertools\n",
    "%matplotlib inline"
   ]
  },
  {
   "cell_type": "code",
   "execution_count": 3,
   "metadata": {},
   "outputs": [],
   "source": [
    "filename = 'gfs_3_20200201_0000_045.grb2'\n",
    "\n",
    "with pygrib.open(filename) as grbs:\n",
    "        grb = grbs.select(name = 'Downward short-wave radiation flux')[0]\n",
    "        data, lats, lons = grb.data()\n",
    "        \n",
    "name2step = lambda name :pd.Timedelta(hours=int(name[-8:-5]))\n",
    "base = datetime.datetime(year=grb.year, month=grb.month, day=grb.day, hour=grb.hour)\n",
    "valid = base + name2step(filename)\n",
    "validtime = np.repeat(pd.to_datetime(valid), (data.shape[0] * data.shape[1]))"
   ]
  },
  {
   "cell_type": "code",
   "execution_count": 5,
   "metadata": {},
   "outputs": [],
   "source": [
    "data_flat = np.reshape(data, (np.product(data.shape),))\n",
    "\n",
    "lats_flat = np.reshape(lats, (np.product(lats.shape),))\n",
    "lons_flat = np.reshape(lons, (np.product(lons.shape),))"
   ]
  },
  {
   "cell_type": "code",
   "execution_count": 9,
   "metadata": {},
   "outputs": [
    {
     "data": {
      "text/plain": [
       "<xarray.Dataset>\n",
       "Dimensions:  (time: 65160)\n",
       "Coordinates:\n",
       "    lon      (time) float64 0.0 1.0 2.0 3.0 4.0 ... 356.0 357.0 358.0 359.0\n",
       "    lat      (time) float64 90.0 90.0 90.0 90.0 90.0 ... -90.0 -90.0 -90.0 -90.0\n",
       "  * time     (time) datetime64[ns] 2020-02-03T03:00:00 ... 2020-02-03T03:00:00\n",
       "Data variables:\n",
       "    ghi      (time) float32 0.0 0.0 0.0 0.0 0.0 ... 240.0 240.0 240.0 240.0"
      ]
     },
     "execution_count": 9,
     "metadata": {},
     "output_type": "execute_result"
    }
   ],
   "source": [
    "ds = xr.Dataset({'ghi': (['time'],data_flat)},\n",
    "                coords={'lon': (['time'], lons_flat),\n",
    "                        'lat': (['time'], lats_flat),\n",
    "                       'time': (validtime)})\n",
    "\n",
    "\n",
    "ds"
   ]
  }
 ],
 "metadata": {
  "kernelspec": {
   "display_name": "Python 3",
   "language": "python",
   "name": "python3"
  },
  "language_info": {
   "codemirror_mode": {
    "name": "ipython",
    "version": 3
   },
   "file_extension": ".py",
   "mimetype": "text/x-python",
   "name": "python",
   "nbconvert_exporter": "python",
   "pygments_lexer": "ipython3",
   "version": "3.6.8"
  }
 },
 "nbformat": 4,
 "nbformat_minor": 2
}
